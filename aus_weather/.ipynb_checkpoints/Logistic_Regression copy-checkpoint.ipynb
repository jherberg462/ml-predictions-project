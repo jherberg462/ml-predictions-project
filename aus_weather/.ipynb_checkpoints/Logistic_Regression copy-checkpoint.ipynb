{
 "cells": [
  {
   "cell_type": "code",
   "execution_count": null,
   "metadata": {},
   "outputs": [],
   "source": [
    "#Import Dependencies\n",
    "import pandas as pd\n",
    "import numpy as np\n",
    "import matplotlib.pyplot as plt"
   ]
  },
  {
   "cell_type": "code",
   "execution_count": null,
   "metadata": {},
   "outputs": [],
   "source": [
    "# Path to the csv\n",
    "path=\"../aus_weather/weatherAUS_clean.csv\"\n",
    "# Reading csv ->df\n",
    "df_aus_weather=pd.read_csv(path)\n",
    "df_aus_weather.head()"
   ]
  },
  {
   "cell_type": "code",
   "execution_count": null,
   "metadata": {},
   "outputs": [],
   "source": [
    "#Display the columns in the dataset\n",
    "df_aus_weather.columns"
   ]
  },
  {
   "cell_type": "code",
   "execution_count": null,
   "metadata": {},
   "outputs": [],
   "source": [
    "#DF info\n",
    "df_aus_weather.info()"
   ]
  },
  {
   "cell_type": "code",
   "execution_count": null,
   "metadata": {},
   "outputs": [],
   "source": [
    "#Reset Index\n",
    "df_aus_weather.reset_index(drop=True,inplace=True)"
   ]
  },
  {
   "cell_type": "code",
   "execution_count": null,
   "metadata": {},
   "outputs": [],
   "source": [
    "# Drop the unnecessary columns\n",
    "# df_aus_weather = df_aus_weather.drop(['RISK_MM'], axis=1)\n",
    "# df_aus_weather.head()"
   ]
  },
  {
   "cell_type": "code",
   "execution_count": null,
   "metadata": {},
   "outputs": [],
   "source": [
    "df_aus_weather.shape"
   ]
  },
  {
   "cell_type": "code",
   "execution_count": null,
   "metadata": {},
   "outputs": [],
   "source": [
    "# # Use get_dummies to convert categorical data (columns - RainToday and RainTomorrow)\n",
    "# bin_encoded_rtod=pd.get_dummies(df_aus_weather[\"RainToday\"],drop_first=True)\n",
    "# bin_encoded_rtom=pd.get_dummies(df_aus_weather[\"RainTomorrow\"],drop_first=True)\n",
    "# df_aus_weather[\"RainToday\"]=bin_encoded_rtod\n",
    "# df_aus_weather[\"RainTomorrow\"]=bin_encoded_rtom"
   ]
  },
  {
   "cell_type": "code",
   "execution_count": null,
   "metadata": {},
   "outputs": [],
   "source": [
    "# #Use Pandas get_dummies to convert categorical data\n",
    "# df_aus_weather=pd.get_dummies(df_aus_weather)\n",
    "# df_aus_weather.head()"
   ]
  },
  {
   "cell_type": "code",
   "execution_count": null,
   "metadata": {},
   "outputs": [],
   "source": [
    "# #Export Pre processed Data\n",
    "# df_aus_weather.to_csv(\"preprocessed_data.csv\")"
   ]
  },
  {
   "cell_type": "markdown",
   "metadata": {},
   "source": [
    "# Machine Learning"
   ]
  },
  {
   "cell_type": "code",
   "execution_count": null,
   "metadata": {},
   "outputs": [],
   "source": [
    "#Import Dependencies\n",
    "from sklearn.linear_model import LogisticRegression\n",
    "from sklearn.model_selection import train_test_split"
   ]
  },
  {
   "cell_type": "code",
   "execution_count": null,
   "metadata": {},
   "outputs": [],
   "source": [
    "#Assign X and y values\n",
    "X=df_aus_weather.drop(\"rain_tomorrow_b\",axis=1)\n",
    "y=df_aus_weather[\"rain_tomorrow_b\"].values.reshape(-1,1)\n",
    "print(X.shape,y.shape)"
   ]
  },
  {
   "cell_type": "code",
   "execution_count": null,
   "metadata": {},
   "outputs": [],
   "source": [
    "#Split the data into training and testing \n",
    "from sklearn.model_selection import train_test_split\n",
    "X_train,X_test,y_train,y_test=train_test_split(X,y,random_state=42)"
   ]
  },
  {
   "cell_type": "code",
   "execution_count": null,
   "metadata": {},
   "outputs": [],
   "source": [
    "#Scale or Normalize data\n",
    "from sklearn.preprocessing import StandardScaler\n",
    "#Create a StandardScalar model and fit it to the training data\n",
    "X_scaler=StandardScaler().fit(X_train)\n",
    "y_scaler=StandardScaler().fit(y_train)"
   ]
  },
  {
   "cell_type": "code",
   "execution_count": null,
   "metadata": {},
   "outputs": [],
   "source": [
    "#Transform the training and testing data using the X_scaler \n",
    "#Since the features are measured from different scales, appling featruring scaling\n",
    "X_train_scaled=X_scaler.transform(X_train)\n",
    "X_test_scaled=X_scaler.transform(X_test)\n",
    "y_train_scaled=y_scaler.transform(y_train)\n",
    "y_test_scaled=y_scaler.transform(y_test)"
   ]
  },
  {
   "cell_type": "markdown",
   "metadata": {},
   "source": [
    "# Create Logistic Regression Model"
   ]
  },
  {
   "cell_type": "markdown",
   "metadata": {},
   "source": [
    "### Without using scaled data"
   ]
  },
  {
   "cell_type": "code",
   "execution_count": null,
   "metadata": {},
   "outputs": [],
   "source": [
    "from sklearn.linear_model import LogisticRegression\n",
    "classifier_nscaled=LogisticRegression()\n",
    "classifier_nscaled"
   ]
  },
  {
   "cell_type": "code",
   "execution_count": null,
   "metadata": {},
   "outputs": [],
   "source": [
    "#Fit(train) the model using the non scaled training data\n",
    "classifier_nscaled.fit(X_train,y_train)"
   ]
  },
  {
   "cell_type": "code",
   "execution_count": null,
   "metadata": {},
   "outputs": [],
   "source": [
    "#Validate the model using the test data\n",
    "print(f\"Training Data Score: {classifier_nscaled.score(X_train,y_train)}\")\n",
    "print(f\"Testing Data Score: {classifier_nscaled.score(X_test,y_test)}\")"
   ]
  },
  {
   "cell_type": "markdown",
   "metadata": {},
   "source": [
    "### Using Scaled Data"
   ]
  },
  {
   "cell_type": "code",
   "execution_count": null,
   "metadata": {},
   "outputs": [],
   "source": [
    "from sklearn.linear_model import LogisticRegression\n",
    "classifier=LogisticRegression()\n",
    "classifier"
   ]
  },
  {
   "cell_type": "code",
   "execution_count": null,
   "metadata": {},
   "outputs": [],
   "source": [
    "#To fix ValueError: Unknown label type: ‘continuous’ , for y classifier. fit expects int not float\n",
    "from sklearn import preprocessing\n",
    "from sklearn import utils\n",
    "lab_enc = preprocessing.LabelEncoder()\n",
    "y_train_scaled_encoded = lab_enc.fit_transform(y_train_scaled)\n",
    "print(y_train_scaled_encoded)\n",
    "print(utils.multiclass.type_of_target(y_train_scaled_encoded))\n",
    "print(utils.multiclass.type_of_target(y_train_scaled_encoded.astype('int')))\n",
    "print(utils.multiclass.type_of_target(y_train_scaled_encoded))"
   ]
  },
  {
   "cell_type": "code",
   "execution_count": null,
   "metadata": {},
   "outputs": [],
   "source": [
    "#To fix ValueError: Unknown label type: ‘continuous’ , for y_train classifier. fit expects int not float\n",
    "from sklearn import preprocessing\n",
    "from sklearn import utils\n",
    "lab_enc = preprocessing.LabelEncoder()\n",
    "y_test_scaled_encoded = lab_enc.fit_transform(y_test_scaled)\n",
    "print(y_test_scaled_encoded)\n",
    "print(utils.multiclass.type_of_target(y_test_scaled_encoded))\n",
    "print(utils.multiclass.type_of_target(y_test_scaled_encoded.astype('int')))\n",
    "print(utils.multiclass.type_of_target(y_test_scaled_encoded))"
   ]
  },
  {
   "cell_type": "code",
   "execution_count": null,
   "metadata": {},
   "outputs": [],
   "source": [
    "#Fit(train) the model using the scaled training data\n",
    "classifier.fit(X_train_scaled,y_train_scaled_encoded)"
   ]
  },
  {
   "cell_type": "code",
   "execution_count": null,
   "metadata": {},
   "outputs": [],
   "source": [
    "#Validate the model using the test data\n",
    "print(f\"Training Data Score: {classifier.score(X_train_scaled,y_train_scaled_encoded)}\")\n",
    "print(f\"Testing Data Score: {classifier.score(X_test_scaled,y_test_scaled_encoded)}\")"
   ]
  },
  {
   "cell_type": "markdown",
   "metadata": {},
   "source": [
    "# Feature importance in Logistic Regression using weights"
   ]
  },
  {
   "cell_type": "code",
   "execution_count": null,
   "metadata": {},
   "outputs": [],
   "source": [
    "# Extract Column Names\n",
    "col_names=X.columns.tolist()\n",
    "col_names"
   ]
  },
  {
   "cell_type": "code",
   "execution_count": null,
   "metadata": {},
   "outputs": [],
   "source": [
    "# Print the coefficients\n",
    "print(classifier.coef_[0])"
   ]
  },
  {
   "cell_type": "code",
   "execution_count": null,
   "metadata": {},
   "outputs": [],
   "source": [
    "# Print the absolute weights\n",
    "weights = classifier.coef_[0]\n",
    "abs_weights = np.abs(weights)\n",
    "print(abs_weights)"
   ]
  },
  {
   "cell_type": "code",
   "execution_count": null,
   "metadata": {},
   "outputs": [],
   "source": [
    "feature_weights=sorted(zip(weights,col_names),reverse = True)\n",
    "feature_weights"
   ]
  },
  {
   "cell_type": "code",
   "execution_count": null,
   "metadata": {},
   "outputs": [],
   "source": []
  },
  {
   "cell_type": "code",
   "execution_count": null,
   "metadata": {},
   "outputs": [],
   "source": []
  }
 ],
 "metadata": {
  "kernelspec": {
   "display_name": "Python 3",
   "language": "python",
   "name": "python3"
  },
  "language_info": {
   "codemirror_mode": {
    "name": "ipython",
    "version": 3
   },
   "file_extension": ".py",
   "mimetype": "text/x-python",
   "name": "python",
   "nbconvert_exporter": "python",
   "pygments_lexer": "ipython3",
   "version": "3.7.3"
  }
 },
 "nbformat": 4,
 "nbformat_minor": 2
}
